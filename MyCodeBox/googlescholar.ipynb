{
 "cells": [
  {
   "cell_type": "code",
   "execution_count": 1,
   "metadata": {},
   "outputs": [],
   "source": [
    "# 输入文章标题，使用googlescholar进行查询\n",
    "import os\n",
    "\n",
    "# 设置HTTP代理和HTTPS代理\n",
    "os.environ[\"HTTP_PROXY\"] = \"http://127.0.0.1:7890\"\n",
    "os.environ[\"HTTPS_PROXY\"] = \"http://127.0.0.1:7890\""
   ]
  },
  {
   "cell_type": "code",
   "execution_count": 2,
   "metadata": {},
   "outputs": [],
   "source": [
    "import requests\n",
    "from bs4 import BeautifulSoup\n",
    "\n",
    "def search_google_scholar(query) -> None:\n",
    "    headers = {'User-Agent': 'Mozilla/5.0'}\n",
    "    url = f\"https://scholar.google.com/scholar?q={query}\"\n",
    "\n",
    "    # 发送请求\n",
    "    response = requests.get(url, headers=headers)\n",
    "\n",
    "    # 使用 BeautifulSoup 解析响应\n",
    "    soup = BeautifulSoup(response.text, 'html.parser')\n",
    "\n",
    "    # 查找结果\n",
    "    for result in soup.find_all('div', class_='gs_ri'):\n",
    "        title = result.find('h3', class_='gs_rt').text\n",
    "        link = result.find('a')['href']\n",
    "        try:\n",
    "            source = result.find('div', class_='gs_a').text\n",
    "            authors = source.split('\\xa0- ')[0]\n",
    "        except Exception as e:\n",
    "            print(e)\n",
    "            source = \"No source found\"\n",
    "        print(link)\n",
    "        print(f\"- `` **{title}** [[paper]({link})][[code]()][{authors}]\")\n",
    "        print(source.split('\\xa0- ')[:-1])\n",
    "        print(\"\\n\\n\")"
   ]
  },
  {
   "cell_type": "code",
   "execution_count": 3,
   "metadata": {},
   "outputs": [
    {
     "name": "stdout",
     "output_type": "stream",
     "text": [
      "https://arxiv.org/abs/2210.11610\n",
      "- `` **Large language models can self-improve** [[paper](https://arxiv.org/abs/2210.11610)][[code]()][J Huang, SS Gu, L Hou, Y Wu, X Wang, H Yu…]\n",
      "['J Huang, SS Gu, L Hou, Y Wu, X Wang, H Yu…']\n",
      "\n",
      "\n",
      "\n"
     ]
    }
   ],
   "source": [
    "search_query = \"Large Language Models Can Self-Improve\"\n",
    "search_google_scholar(search_query)\n"
   ]
  },
  {
   "cell_type": "code",
   "execution_count": 4,
   "metadata": {},
   "outputs": [
    {
     "name": "stdout",
     "output_type": "stream",
     "text": [
      "bash run_embeddingcmfm_al0_v3_updated.sh &\n",
      "bash run_embeddingcmfm_al1_v3_updated.sh &\n",
      "bash run_embeddingcmfm_al2_v3_updated.sh &\n",
      "bash run_embeddingcmfm_al3_v3_updated.sh &\n",
      "bash run_embeddingcmfm_al4_v3_updated.sh &\n"
     ]
    }
   ],
   "source": [
    "command = \"\"\"\n",
    "bash run_embeddingcmfm_al0_v1_updated.sh &\n",
    "bash run_embeddingcmfm_al0_v2_updated.sh &\n",
    "bash run_embeddingcmfm_al0_v3_updated.sh &\n",
    "bash run_embeddingcmfm_al1_v1_updated.sh &\n",
    "bash run_embeddingcmfm_al1_v2_updated.sh &\n",
    "bash run_embeddingcmfm_al1_v3_updated.sh &\n",
    "bash run_embeddingcmfm_al2_v1_updated.sh &\n",
    "bash run_embeddingcmfm_al2_v2_updated.sh &\n",
    "bash run_embeddingcmfm_al2_v3_updated.sh &\n",
    "bash run_embeddingcmfm_al3_v1_updated.sh &\n",
    "bash run_embeddingcmfm_al3_v2_updated.sh &\n",
    "bash run_embeddingcmfm_al3_v3_updated.sh &\n",
    "bash run_embeddingcmfm_al4_v1_updated.sh &\n",
    "bash run_embeddingcmfm_al4_v2_updated.sh &\n",
    "bash run_embeddingcmfm_al4_v3_updated.sh &\n",
    "\"\"\"\n",
    "\n",
    "command = command.split('\\n')\n",
    "for c in command:\n",
    "    if ('v3' in c):\n",
    "        print(c)"
   ]
  }
 ],
 "metadata": {
  "kernelspec": {
   "display_name": "base",
   "language": "python",
   "name": "python3"
  },
  "language_info": {
   "codemirror_mode": {
    "name": "ipython",
    "version": 3
   },
   "file_extension": ".py",
   "mimetype": "text/x-python",
   "name": "python",
   "nbconvert_exporter": "python",
   "pygments_lexer": "ipython3",
   "version": "3.11.5"
  }
 },
 "nbformat": 4,
 "nbformat_minor": 2
}
