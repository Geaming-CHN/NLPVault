{
 "cells": [
  {
   "cell_type": "code",
   "execution_count": 17,
   "metadata": {},
   "outputs": [],
   "source": [
    "# 输入文章标题，使用googlescholar进行查询"
   ]
  },
  {
   "cell_type": "code",
   "execution_count": 18,
   "metadata": {},
   "outputs": [],
   "source": [
    "import requests\n",
    "from bs4 import BeautifulSoup\n",
    "\n",
    "def search_google_scholar(query):\n",
    "    headers = {'User-Agent': 'Mozilla/5.0'}\n",
    "    url = f\"https://scholar.google.com/scholar?q={query}\"\n",
    "\n",
    "    # 发送请求\n",
    "    response = requests.get(url, headers=headers)\n",
    "\n",
    "    # 使用 BeautifulSoup 解析响应\n",
    "    soup = BeautifulSoup(response.text, 'html.parser')\n",
    "\n",
    "    # 查找结果\n",
    "    for result in soup.find_all('div', class_='gs_ri'):\n",
    "        title = result.find('h3', class_='gs_rt').text\n",
    "        link = result.find('a')['href']\n",
    "        try:\n",
    "            source = result.find('div', class_='gs_a').text\n",
    "            authors = source.split('\\xa0- ')[0]\n",
    "        except:\n",
    "            source = \"No source found\"\n",
    "        print(source.split('\\xa0- '))\n",
    "        print(f\"√`` **{title}** [[paper]({link})][[code]()][{authors}]\")"
   ]
  },
  {
   "cell_type": "code",
   "execution_count": 19,
   "metadata": {},
   "outputs": [
    {
     "name": "stdout",
     "output_type": "stream",
     "text": [
      "['D Singh, S Reddy, W Hamilton…', 'Advances in Neural\\xa0…, 2021 - proceedings.neurips.cc']\n",
      "√`` **End-to-end training of multi-document reader and retriever for open-domain question answering** [[paper]()][[code]()][D Singh, S Reddy, W Hamilton…]\n",
      "['D Singh Sachan, S Reddy, W Hamilton, C Dyer…', 'arXiv e\\xa0…, 2021 - ui.adsabs.harvard.edu']\n",
      "√`` **End-to-End Training of Multi-Document Reader and Retriever for Open-Domain Question Answering** [[paper]()][[code]()][D Singh Sachan, S Reddy, W Hamilton, C Dyer…]\n"
     ]
    }
   ],
   "source": [
    "search_query = \"End-to-End Training of Multi-Document Reader and Retriever for Open-Domain Question Answering\"\n",
    "search_google_scholar(search_query)"
   ]
  }
 ],
 "metadata": {
  "kernelspec": {
   "display_name": "base",
   "language": "python",
   "name": "python3"
  },
  "language_info": {
   "codemirror_mode": {
    "name": "ipython",
    "version": 3
   },
   "file_extension": ".py",
   "mimetype": "text/x-python",
   "name": "python",
   "nbconvert_exporter": "python",
   "pygments_lexer": "ipython3",
   "version": "3.11.5"
  }
 },
 "nbformat": 4,
 "nbformat_minor": 2
}
