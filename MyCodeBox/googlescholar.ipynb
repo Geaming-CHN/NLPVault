{
 "cells": [
  {
   "cell_type": "code",
<<<<<<< HEAD
   "execution_count": 20,
=======
   "execution_count": 17,
>>>>>>> 12d240fed130ef6106721d2cf1503e732a3eb3fa
   "metadata": {},
   "outputs": [],
   "source": [
    "# 输入文章标题，使用googlescholar进行查询"
   ]
  },
  {
   "cell_type": "code",
<<<<<<< HEAD
   "execution_count": 21,
=======
   "execution_count": 18,
>>>>>>> 12d240fed130ef6106721d2cf1503e732a3eb3fa
   "metadata": {},
   "outputs": [],
   "source": [
    "import requests\n",
    "from bs4 import BeautifulSoup\n",
    "\n",
    "def search_google_scholar(query):\n",
    "    headers = {'User-Agent': 'Mozilla/5.0'}\n",
    "    url = f\"https://scholar.google.com/scholar?q={query}\"\n",
    "\n",
    "    # 发送请求\n",
    "    response = requests.get(url, headers=headers)\n",
    "\n",
    "    # 使用 BeautifulSoup 解析响应\n",
    "    soup = BeautifulSoup(response.text, 'html.parser')\n",
    "\n",
    "    # 查找结果\n",
    "    for result in soup.find_all('div', class_='gs_ri'):\n",
    "        title = result.find('h3', class_='gs_rt').text\n",
    "        link = result.find('a')['href']\n",
    "        try:\n",
    "            source = result.find('div', class_='gs_a').text\n",
    "            authors = source.split('\\xa0- ')[0]\n",
    "        except:\n",
    "            source = \"No source found\"\n",
<<<<<<< HEAD
    "        print(link)\n",
    "        print(f\"√`` **{title}** [[paper]({link})][[code]()][{authors}]\")\n",
    "        print(\"\\n\\n\")"
=======
    "        print(source.split('\\xa0- '))\n",
    "        print(f\"√`` **{title}** [[paper]({link})][[code]()][{authors}]\")"
>>>>>>> 12d240fed130ef6106721d2cf1503e732a3eb3fa
   ]
  },
  {
   "cell_type": "code",
<<<<<<< HEAD
   "execution_count": 22,
=======
   "execution_count": 19,
>>>>>>> 12d240fed130ef6106721d2cf1503e732a3eb3fa
   "metadata": {},
   "outputs": [
    {
     "name": "stdout",
     "output_type": "stream",
     "text": [
<<<<<<< HEAD
      "https://proceedings.neurips.cc/paper_files/paper/2021/hash/da3fde159d754a2555eaa198d2d105b2-Abstract.html\n",
      "√`` **End-to-end training of multi-document reader and retriever for open-domain question answering** [[paper](https://proceedings.neurips.cc/paper_files/paper/2021/hash/da3fde159d754a2555eaa198d2d105b2-Abstract.html)][[code]()][D Singh, S Reddy, W Hamilton…]\n",
      "\n",
      "\n",
      "\n",
      "https://ui.adsabs.harvard.edu/abs/2021arXiv210605346S/abstract\n",
      "√`` **End-to-End Training of Multi-Document Reader and Retriever for Open-Domain Question Answering** [[paper](https://ui.adsabs.harvard.edu/abs/2021arXiv210605346S/abstract)][[code]()][D Singh Sachan, S Reddy, W Hamilton, C Dyer…]\n",
      "\n",
      "\n",
      "\n"
=======
      "['D Singh, S Reddy, W Hamilton…', 'Advances in Neural\\xa0…, 2021 - proceedings.neurips.cc']\n",
      "√`` **End-to-end training of multi-document reader and retriever for open-domain question answering** [[paper]()][[code]()][D Singh, S Reddy, W Hamilton…]\n",
      "['D Singh Sachan, S Reddy, W Hamilton, C Dyer…', 'arXiv e\\xa0…, 2021 - ui.adsabs.harvard.edu']\n",
      "√`` **End-to-End Training of Multi-Document Reader and Retriever for Open-Domain Question Answering** [[paper]()][[code]()][D Singh Sachan, S Reddy, W Hamilton, C Dyer…]\n"
>>>>>>> 12d240fed130ef6106721d2cf1503e732a3eb3fa
     ]
    }
   ],
   "source": [
    "search_query = \"End-to-End Training of Multi-Document Reader and Retriever for Open-Domain Question Answering\"\n",
    "search_google_scholar(search_query)"
   ]
  }
 ],
 "metadata": {
  "kernelspec": {
   "display_name": "base",
   "language": "python",
   "name": "python3"
  },
  "language_info": {
   "codemirror_mode": {
    "name": "ipython",
    "version": 3
   },
   "file_extension": ".py",
   "mimetype": "text/x-python",
   "name": "python",
   "nbconvert_exporter": "python",
   "pygments_lexer": "ipython3",
   "version": "3.11.5"
  }
 },
 "nbformat": 4,
 "nbformat_minor": 2
}
