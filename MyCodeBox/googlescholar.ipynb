{
 "cells": [
  {
   "cell_type": "code",
   "execution_count": 1,
   "metadata": {},
   "outputs": [],
   "source": [
    "# 输入文章标题，使用googlescholar进行查询\n",
    "import os"
   ]
  },
  {
   "cell_type": "code",
   "execution_count": 2,
   "metadata": {},
   "outputs": [],
   "source": [
    "import requests\n",
    "from bs4 import BeautifulSoup\n",
    "\n",
    "def search_google_scholar(query) -> None:\n",
    "    headers = {'User-Agent': 'Mozilla/5.0'}\n",
    "    url = f\"https://scholar.google.com/scholar?q={query}\"\n",
    "\n",
    "    # 发送请求\n",
    "    response = requests.get(url, headers=headers)\n",
    "\n",
    "    # 使用 BeautifulSoup 解析响应\n",
    "    soup = BeautifulSoup(response.text, 'html.parser')\n",
    "\n",
    "    # 查找结果\n",
    "    for result in soup.find_all('div', class_='gs_ri'):\n",
    "        title = result.find('h3', class_='gs_rt').text\n",
    "        link = result.find('a')['href']\n",
    "        try:\n",
    "            source = result.find('div', class_='gs_a').text\n",
    "            authors = source.split('\\xa0- ')[0]\n",
    "        except Exception as e:\n",
    "            print(e)\n",
    "            source = \"No source found\"\n",
    "        print(link)\n",
    "        print(f\"- `` **{title}** [[paper]({link})][[code]()][{authors}]\")\n",
    "        print(source.split('\\xa0- ')[:-1])\n",
    "        print(\"\\n\\n\")"
   ]
  },
  {
   "cell_type": "code",
   "execution_count": 3,
   "metadata": {},
   "outputs": [
    {
     "name": "stdout",
     "output_type": "stream",
     "text": [
      "https://arxiv.org/abs/2406.04093\n",
      "- `` **Scaling and evaluating sparse autoencoders** [[paper](https://arxiv.org/abs/2406.04093)][[code]()][L Gao, TD la Tour, H Tillman, G Goh, R Troll…]\n",
      "['L Gao, TD la Tour, H Tillman, G Goh, R Troll…']\n",
      "\n",
      "\n",
      "\n"
     ]
    }
   ],
   "source": [
    "search_query = \"Scaling and evaluating sparse autoencoders\"\n",
    "search_google_scholar(search_query)\n"
   ]
  }
 ],
 "metadata": {
  "kernelspec": {
   "display_name": "base",
   "language": "python",
   "name": "python3"
  },
  "language_info": {
   "codemirror_mode": {
    "name": "ipython",
    "version": 3
   },
   "file_extension": ".py",
   "mimetype": "text/x-python",
   "name": "python",
   "nbconvert_exporter": "python",
   "pygments_lexer": "ipython3",
   "version": "3.10.14"
  }
 },
 "nbformat": 4,
 "nbformat_minor": 2
}
