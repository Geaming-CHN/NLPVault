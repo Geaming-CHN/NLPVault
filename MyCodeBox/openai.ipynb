{
 "cells": [
  {
   "cell_type": "code",
   "execution_count": null,
   "metadata": {},
   "outputs": [],
   "source": [
    "import openai\n",
    "import os\n",
    "from tqdm import tqdm\n",
    "\n",
    "from openai_config import API_BASE, API_KEY\n",
    "openai.api_base = API_BASE\n",
    "openai.api_key = API_KEY\n",
    "\n",
    "model = \"gpt-3.5-turbo-16k-0613\""
   ]
  },
  {
   "cell_type": "code",
   "execution_count": null,
   "metadata": {},
   "outputs": [],
   "source": [
    "def get_completion(prompt, model=model): \n",
    "    messages = [{\"role\": \"user\", \"content\": prompt}] \n",
    "    response = openai.ChatCompletion.create( \n",
    "        model=model, \n",
    "        messages=messages, \n",
    "        temperature=0, # this is the degree of randomness of the model's output \n",
    "        ) \n",
    "    return response.choices[0].message[\"content\"]"
   ]
  },
  {
   "cell_type": "code",
   "execution_count": null,
   "metadata": {},
   "outputs": [],
   "source": [
    "prompt = f\"\"\" \n",
    "你好！\n",
    "\"\"\" \n",
    "response = get_completion(prompt)  # You should define this function\n",
    "response"
   ]
  }
 ],
 "metadata": {
  "language_info": {
   "name": "python"
  }
 },
 "nbformat": 4,
 "nbformat_minor": 2
}
