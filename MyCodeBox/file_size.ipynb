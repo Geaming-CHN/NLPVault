{
 "cells": [
  {
   "cell_type": "code",
   "execution_count": 1,
   "metadata": {},
   "outputs": [
    {
     "name": "stdout",
     "output_type": "stream",
     "text": [
      "3785890\n"
     ]
    }
   ],
   "source": [
    "import requests\n",
    "\n",
    "def get_file_size(url):\n",
    "    # 发送HEAD请求\n",
    "    response = requests.head(url)\n",
    "    # 检查是否成功获取了头信息\n",
    "    if response.status_code == 200:\n",
    "        # 获取内容长度\n",
    "        content_length = response.headers.get('content-length')\n",
    "        if content_length is not None:\n",
    "            # 将内容长度转换为整数（字节）\n",
    "            size_in_bytes = int(content_length)\n",
    "            return size_in_bytes\n",
    "        else:\n",
    "            return \"大小未知\"\n",
    "    else:\n",
    "        return \"请求失败\""
   ]
  },
  {
   "cell_type": "code",
   "execution_count": 6,
   "metadata": {},
   "outputs": [
    {
     "name": "stdout",
     "output_type": "stream",
     "text": [
      "423.148\n",
      "0.423148\n"
     ]
    }
   ],
   "source": [
    "# 示例链接\n",
    "url = 'https://s3.amazonaws.com/commensenseqa/test_rand_split_no_answers.jsonl'\n",
    "print(get_file_size(url)/1000)\n",
    "print(get_file_size(url)/1000/1000)"
   ]
  },
  {
   "cell_type": "code",
   "execution_count": null,
   "metadata": {},
   "outputs": [],
   "source": []
  }
 ],
 "metadata": {
  "kernelspec": {
   "display_name": "base",
   "language": "python",
   "name": "python3"
  },
  "language_info": {
   "codemirror_mode": {
    "name": "ipython",
    "version": 3
   },
   "file_extension": ".py",
   "mimetype": "text/x-python",
   "name": "python",
   "nbconvert_exporter": "python",
   "pygments_lexer": "ipython3",
   "version": "3.11.5"
  }
 },
 "nbformat": 4,
 "nbformat_minor": 2
}
